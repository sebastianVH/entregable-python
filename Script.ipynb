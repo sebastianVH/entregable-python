{
 "cells": [
  {
   "cell_type": "code",
   "execution_count": 11,
   "metadata": {},
   "outputs": [
    {
     "name": "stdout",
     "output_type": "stream",
     "text": [
      "Error. Código de estado: 403\n",
      "Mensaje de error: Authentication or authorization failed.  Please check your keys, plan limits or if your plan includes access to the data you are trying to request.\n"
     ]
    }
   ],
   "source": [
    "##    if _name_ == '_main_':\n",
    "\n",
    "import requests\n",
    "import pandas as pd\n",
    "from dotenv import dotenv_values\n",
    "\n",
    "##urlclima = 'http://api.weatherunlocked.com/api/current/51.50,-0.12?app_id={APP_ID}&app_key={APP_KEY}'\n",
    "\n",
    "APP_ID, APP_KEY = dotenv_values('.env').values()\n",
    "\n",
    "# dotenv_values('.env') = {'SECRET_APP_ID': '2173d251','SECRET_APP_KEY': '434a3a6328dcc4ed503e41e2250adaf1'}\n",
    "# values = ['2173d251','434a3a6328dcc4ed503e41e2250adaf1']\n",
    "\n",
    "urlclima = f'http://api.weatherunlocked.com/api/current/51.50,-0.12?app_id={APP_ID}&app_key={APP_KEY}'\n",
    "\n",
    "\n",
    "response = requests.get(\n",
    "    urlclima,\n",
    "    )\n",
    "\n",
    "\n",
    "\n",
    "if response.ok: # chequeamos si la respuesta fue correcta\n",
    "\n",
    "    data_response=response.json()\n",
    "    \n",
    "    df = pd.DataFrame(data=data_response, index=[\"Linea 1\"]) \n",
    "\n",
    "    df.to_json('salida.json',\n",
    "    orient='records')\n",
    "\n",
    "    print('Archivo JSON descargado y guardado exitosamente.')\n",
    "\n",
    "else:\n",
    "    print(f'Error. Código de estado: {response.status_code}\\nMensaje de error: {response.text}')"
   ]
  }
 ],
 "metadata": {
  "kernelspec": {
   "display_name": "Python 3",
   "language": "python",
   "name": "python3"
  },
  "language_info": {
   "codemirror_mode": {
    "name": "ipython",
    "version": 3
   },
   "file_extension": ".py",
   "mimetype": "text/x-python",
   "name": "python",
   "nbconvert_exporter": "python",
   "pygments_lexer": "ipython3",
   "version": "3.11.5"
  }
 },
 "nbformat": 4,
 "nbformat_minor": 2
}
